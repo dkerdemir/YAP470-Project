{
 "cells": [
  {
   "cell_type": "markdown",
   "metadata": {},
   "source": [
    "Beginning of our project :)"
   ]
  },
  {
   "cell_type": "code",
   "execution_count": 1,
   "metadata": {},
   "outputs": [],
   "source": [
    "#import sklearn.datasets\n",
    "import pandas as pd"
   ]
  },
  {
   "cell_type": "markdown",
   "metadata": {},
   "source": [
    "Reading our Dataset Below:"
   ]
  },
  {
   "cell_type": "code",
   "execution_count": 2,
   "metadata": {},
   "outputs": [
    {
     "name": "stdout",
     "output_type": "stream",
     "text": [
      "      type                                              posts\n",
      "0     INFJ  'http://www.youtube.com/watch?v=qsXHcwe3krw|||...\n",
      "1     ENTP  'I'm finding the lack of me in these posts ver...\n",
      "2     INTP  'Good one  _____   https://www.youtube.com/wat...\n",
      "3     INTJ  'Dear INTP,   I enjoyed our conversation the o...\n",
      "4     ENTJ  'You're fired.|||That's another silly misconce...\n",
      "...    ...                                                ...\n",
      "8670  ISFP  'https://www.youtube.com/watch?v=t8edHB_h908||...\n",
      "8671  ENFP  'So...if this thread already exists someplace ...\n",
      "8672  INTP  'So many questions when i do these things.  I ...\n",
      "8673  INFP  'I am very conflicted right now when it comes ...\n",
      "8674  INFP  'It has been too long since I have been on per...\n",
      "\n",
      "[8675 rows x 2 columns]\n"
     ]
    }
   ],
   "source": [
    "data = pd.read_csv('mbti_1.csv')\n",
    "print(data)\n"
   ]
  },
  {
   "cell_type": "code",
   "execution_count": null,
   "metadata": {},
   "outputs": [],
   "source": []
  }
 ],
 "metadata": {
  "kernelspec": {
   "display_name": "Python 3 (ipykernel)",
   "language": "python",
   "name": "python3"
  },
  "language_info": {
   "codemirror_mode": {
    "name": "ipython",
    "version": 3
   },
   "file_extension": ".py",
   "mimetype": "text/x-python",
   "name": "python",
   "nbconvert_exporter": "python",
   "pygments_lexer": "ipython3",
   "version": "3.8.0"
  }
 },
 "nbformat": 4,
 "nbformat_minor": 4
}
